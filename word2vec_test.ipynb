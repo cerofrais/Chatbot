{
 "cells": [
  {
   "cell_type": "code",
   "execution_count": 1,
   "metadata": {},
   "outputs": [
    {
     "name": "stderr",
     "output_type": "stream",
     "text": [
      "C:\\Users\\Harsha\\AppData\\Local\\Programs\\Python\\Python36-32\\lib\\site-packages\\gensim\\utils.py:1197: UserWarning: detected Windows; aliasing chunkize to chunkize_serial\n",
      "  warnings.warn(\"detected Windows; aliasing chunkize to chunkize_serial\")\n"
     ]
    }
   ],
   "source": [
    "from gensim.models import Word2Vec"
   ]
  },
  {
   "cell_type": "code",
   "execution_count": 2,
   "metadata": {},
   "outputs": [
    {
     "data": {
      "text/plain": [
       "(400000, 100)"
      ]
     },
     "execution_count": 2,
     "metadata": {},
     "output_type": "execute_result"
    }
   ],
   "source": [
    "#model = Word2Vec(sentences, size=100, window=5, min_count=5, workers=4)\n",
    "#from gensim.models import KeyedVectors\n",
    "#filename = 'GoogleNews-vectors-negative300.bin'\n",
    "#model = KeyedVectors.load_word2vec_format(filename, binary=True)\n",
    "\n",
    "\n",
    "\n",
    "from gensim.scripts.glove2word2vec import glove2word2vec\n",
    "glove_input_file = 'intents/glove.6B.100d.txt'\n",
    "word2vec_output_file = 'intents/glove.6B.100d.txt.word2vec'\n",
    "glove2word2vec(glove_input_file, word2vec_output_file)\n",
    "\n"
   ]
  },
  {
   "cell_type": "code",
   "execution_count": 3,
   "metadata": {},
   "outputs": [
    {
     "name": "stderr",
     "output_type": "stream",
     "text": [
      "C:\\Users\\Harsha\\AppData\\Local\\Programs\\Python\\Python36-32\\lib\\site-packages\\ipykernel_launcher.py:6: DeprecationWarning: Call to deprecated `wv` (Attribute will be removed in 4.0.0, use self instead).\n",
      "  \n"
     ]
    }
   ],
   "source": [
    "\n",
    "from gensim.models import KeyedVectors\n",
    "# load the Stanford GloVe model\n",
    "filename = 'intents/glove.6B.100d.txt.word2vec'\n",
    "model = KeyedVectors.load_word2vec_format(filename, binary=False)\n",
    "word_vec=model.wv\n",
    "#word_vec.get_vector('cab')"
   ]
  },
  {
   "cell_type": "code",
   "execution_count": 4,
   "metadata": {},
   "outputs": [],
   "source": [
    "x=word_vec.get_vector('pub')\n",
    "#x.shape\n"
   ]
  },
  {
   "cell_type": "code",
   "execution_count": 5,
   "metadata": {},
   "outputs": [],
   "source": [
    "import numpy as np\n",
    "cab_file=open('intents/cab.dat','r')\n",
    "stopwords=open('intents/stopwords.txt','r')\n",
    "\n",
    "\n",
    "stopwrds=[]\n",
    "for each in stopwords:\n",
    "    stopwrds.append(each.strip())\n",
    "#print(stopwrds)\n",
    "stopwords.close()\n"
   ]
  },
  {
   "cell_type": "code",
   "execution_count": 8,
   "metadata": {},
   "outputs": [],
   "source": [
    "import scipy\n",
    "def eqdist(invec,givenvec):\n",
    "    d=[]\n",
    "    for every in invec:\n",
    "        d.append(np.sqrt(sum(np.square(every - givenvec))))\n",
    "    #print(d)\n",
    "    return(min(d))\n",
    "def cosdist(invec,givenvec):\n",
    "    d=[]\n",
    "    for every in invec:\n",
    "        d.append(scipy.spatial.distance.cosine(every,givenvec))\n",
    "    #print(d)\n",
    "    return(min(d))"
   ]
  },
  {
   "cell_type": "code",
   "execution_count": 42,
   "metadata": {},
   "outputs": [],
   "source": [
    "def file2vec(filename):\n",
    "    clean_sens=[]\n",
    "    sens=[]\n",
    "    file=open(filename,'r')\n",
    "    for lines in file:\n",
    "        sens.append(lines.split())\n",
    "    file.close()\n",
    "    for i in sens:\n",
    "        l=[]\n",
    "        for words in i:\n",
    "            if '$' in words:\n",
    "                words=words[1:]\n",
    "            if words.lower() not in stopwrds and (words.lower() in word_vec.vocab):\n",
    "                l.append(words.lower())\n",
    "        clean_sens.append(l)\n",
    "    #print(clean_sens)\n",
    "    sens_vec=[]\n",
    "    for wrds in clean_sens:\n",
    "        vecs=np.zeros(word_vec.get_vector('pub').shape)\n",
    "        #print(vecs.shape)\n",
    "        for wrd in wrds:\n",
    "            #print(word_vec.get_vector(wrd))\n",
    "            vecs=vecs+word_vec.get_vector(wrd)\n",
    "        sens_vec.append(vecs/len(wrds))\n",
    "    return sens_vec"
   ]
  },
  {
   "cell_type": "code",
   "execution_count": 46,
   "metadata": {},
   "outputs": [],
   "source": [
    "def getintent(clean_input):\n",
    "    uinput=clean_input\n",
    "    givenvec=np.zeros(word_vec.get_vector('pub').shape)\n",
    "    count=0\n",
    "    for w in uinput.split():\n",
    "        if (w.lower() not in stopwrds) and (w.lower() in word_vec.vocab):\n",
    "            givenvec=givenvec+word_vec.get_vector(w.lower())\n",
    "            count=count+1\n",
    "    pubsd=cosdist(file2vec('intents/restaurant.dat'),givenvec)\n",
    "    cabsd=cosdist(file2vec('intents/cab.dat'),givenvec)\n",
    "    red=cosdist(file2vec('intents/restart.dat'),givenvec)\n",
    "    \n",
    "    #print(pubsd,cabsd,red)\n",
    "    if pubsd < cabsd :\n",
    "        if pubsd < red:\n",
    "            print('restaurant')\n",
    "            return('restaurant')\n",
    "        else:\n",
    "            print('restart')\n",
    "            return('restart')\n",
    "    else :\n",
    "        if cabsd <red:\n",
    "            print('Cab')\n",
    "            return('Cab')\n",
    "        else:\n",
    "            print('restart')\n",
    "            return('restart')\n",
    "#print(givenvec/count)\n",
    "\n",
    "        "
   ]
  },
  {
   "cell_type": "code",
   "execution_count": 50,
   "metadata": {},
   "outputs": [
    {
     "name": "stdout",
     "output_type": "stream",
     "text": [
      "Cab\n"
     ]
    },
    {
     "name": "stderr",
     "output_type": "stream",
     "text": [
      "C:\\Users\\Harsha\\AppData\\Local\\Programs\\Python\\Python36-32\\lib\\site-packages\\ipykernel_launcher.py:24: RuntimeWarning: invalid value encountered in true_divide\n"
     ]
    },
    {
     "data": {
      "text/plain": [
       "'Cab'"
      ]
     },
     "execution_count": 50,
     "metadata": {},
     "output_type": "execute_result"
    }
   ],
   "source": [
    "getintent('lets go for a ride')"
   ]
  },
  {
   "cell_type": "code",
   "execution_count": null,
   "metadata": {},
   "outputs": [],
   "source": []
  }
 ],
 "metadata": {
  "kernelspec": {
   "display_name": "Python 3",
   "language": "python",
   "name": "python3"
  },
  "language_info": {
   "codemirror_mode": {
    "name": "ipython",
    "version": 3
   },
   "file_extension": ".py",
   "mimetype": "text/x-python",
   "name": "python",
   "nbconvert_exporter": "python",
   "pygments_lexer": "ipython3",
   "version": "3.6.4"
  }
 },
 "nbformat": 4,
 "nbformat_minor": 2
}
