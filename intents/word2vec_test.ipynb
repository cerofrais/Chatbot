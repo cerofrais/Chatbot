{
 "cells": [
  {
   "cell_type": "code",
   "execution_count": 1,
   "metadata": {},
   "outputs": [
    {
     "name": "stderr",
     "output_type": "stream",
     "text": [
      "C:\\Users\\Harsha\\AppData\\Local\\Programs\\Python\\Python36-32\\lib\\site-packages\\gensim\\utils.py:1197: UserWarning: detected Windows; aliasing chunkize to chunkize_serial\n",
      "  warnings.warn(\"detected Windows; aliasing chunkize to chunkize_serial\")\n"
     ]
    }
   ],
   "source": [
    "from gensim.models import Word2Vec"
   ]
  },
  {
   "cell_type": "code",
   "execution_count": 2,
   "metadata": {},
   "outputs": [
    {
     "data": {
      "text/plain": [
       "(400000, 100)"
      ]
     },
     "execution_count": 2,
     "metadata": {},
     "output_type": "execute_result"
    }
   ],
   "source": [
    "#model = Word2Vec(sentences, size=100, window=5, min_count=5, workers=4)\n",
    "#from gensim.models import KeyedVectors\n",
    "#filename = 'GoogleNews-vectors-negative300.bin'\n",
    "#model = KeyedVectors.load_word2vec_format(filename, binary=True)\n",
    "\n",
    "\n",
    "\n",
    "from gensim.scripts.glove2word2vec import glove2word2vec\n",
    "glove_input_file = 'glove.6B.100d.txt'\n",
    "word2vec_output_file = 'glove.6B.100d.txt.word2vec'\n",
    "glove2word2vec(glove_input_file, word2vec_output_file)\n",
    "\n"
   ]
  },
  {
   "cell_type": "code",
   "execution_count": 3,
   "metadata": {},
   "outputs": [
    {
     "name": "stderr",
     "output_type": "stream",
     "text": [
      "C:\\Users\\Harsha\\AppData\\Local\\Programs\\Python\\Python36-32\\lib\\site-packages\\ipykernel_launcher.py:6: DeprecationWarning: Call to deprecated `wv` (Attribute will be removed in 4.0.0, use self instead).\n",
      "  \n"
     ]
    }
   ],
   "source": [
    "\n",
    "from gensim.models import KeyedVectors\n",
    "# load the Stanford GloVe model\n",
    "filename = 'glove.6B.100d.txt.word2vec'\n",
    "model = KeyedVectors.load_word2vec_format(filename, binary=False)\n",
    "word_vec=model.wv\n",
    "#word_vec.get_vector('cab')"
   ]
  },
  {
   "cell_type": "code",
   "execution_count": 4,
   "metadata": {},
   "outputs": [],
   "source": [
    "x=word_vec.get_vector('pub')\n",
    "#x.shape\n"
   ]
  },
  {
   "cell_type": "code",
   "execution_count": 5,
   "metadata": {},
   "outputs": [],
   "source": [
    "import numpy as np\n",
    "cab_file=open('cab.dat','r')\n",
    "stopwords=open('stopwords.txt','r')\n",
    "\n",
    "\n",
    "stopwrds=[]\n",
    "for each in stopwords:\n",
    "    stopwrds.append(each.strip())\n",
    "#print(stopwrds)\n",
    "stopwords.close()\n",
    "sen=[]\n",
    "for lines in cab_file:\n",
    "    sen.append(lines.split())\n",
    "cleansen=[]\n",
    "#print(sen)\n",
    "for sents in sen:\n",
    "    l=[]\n",
    "    #print(sents)\n",
    "    for words in sents:\n",
    "        if '$cabcompany' in words:\n",
    "            words='company'\n",
    "        if words.lower() not in stopwrds and words.lower() in word_vec.vocab:\n",
    "            l.append(words)\n",
    "    cleansen.append(l)\n",
    "#print(cleansen)\n",
    "\n",
    "#senvec=np.zeros((vec.shape[0],len(sen)))\n",
    "senvec_cab=[]\n",
    "#print(senvec.shape)\n",
    "for words in cleansen:\n",
    "    vec=np.zeros(word_vec.get_vector('pub').shape)\n",
    "    for word in words:\n",
    "        vec=vec+word_vec.get_vector(word)\n",
    "    senvec_cab.append(vec/len(cleansen))\n",
    "#print(senvec_cab)\n",
    "cab_file.close()"
   ]
  },
  {
   "cell_type": "code",
   "execution_count": 6,
   "metadata": {},
   "outputs": [],
   "source": [
    "sen_pubs=[]\n",
    "pubs_file=open('restaurant.dat','r')\n",
    "for plin in pubs_file:\n",
    "    sen_pubs.append(plin.split())\n",
    "    #print(lin)\n",
    "cleansen_pubs=[]\n",
    "#print(sen_pubs)\n",
    "for sents in sen_pubs:\n",
    "    l=[]\n",
    "    #print(sents)\n",
    "    for words in sents:\n",
    "        if '$' in words:\n",
    "            words= words[1:]\n",
    "        if words.lower() not in stopwrds and (words.lower() in word_vec.vocab):\n",
    "            l.append(words.lower())\n",
    "    cleansen_pubs.append(l)\n",
    "#print(cleansen_pubs)\n",
    "\n",
    "senvec_pubs=[]\n",
    "#print(senvec.shape)\n",
    "for words in cleansen_pubs:\n",
    "    vec=np.zeros(word_vec.get_vector('pub').shape)\n",
    "    for word in words:\n",
    "            vec=vec+word_vec.get_vector(word)\n",
    "    senvec_pubs.append(vec/len(cleansen_pubs))\n",
    "#print(senvec_pubs)"
   ]
  },
  {
   "cell_type": "code",
   "execution_count": 7,
   "metadata": {},
   "outputs": [],
   "source": [
    "sen_res=[]\n",
    "res_file=open('restart.dat','r')\n",
    "for eline in res_file:\n",
    "    sen_res.append(eline.split())\n",
    "cleansen_res=[]\n",
    "for i in sen_res:\n",
    "    l=[]\n",
    "    for words in i:\n",
    "        if '$' in words:\n",
    "            words=words[1:]\n",
    "        if words.lower() not in stopwrds and (words.lower() in word_vec.vocab):\n",
    "            l.append(words.lower())\n",
    "    cleansen_res.append(l)\n",
    "#print(cleansen_res)\n",
    "senvec_res=[]\n",
    "for wrds in cleansen_res:\n",
    "    vec=np.zeros(word_vec.get_vector('pub').shape)\n",
    "    for wrd in wrds:\n",
    "            vec=vec+word_vec.get_vector(wrd)\n",
    "    senvec_res.append(vec/len(cleansen_res))\n",
    "#print(senvec_res)"
   ]
  },
  {
   "cell_type": "code",
   "execution_count": 8,
   "metadata": {},
   "outputs": [],
   "source": [
    "import scipy\n",
    "def eqdist(invec,givenvec):\n",
    "    d=[]\n",
    "    for every in invec:\n",
    "        d.append(np.sqrt(sum(np.square(every - givenvec))))\n",
    "    #print(d)\n",
    "    return(min(d))\n",
    "def cosdist(invec,givenvec):\n",
    "    d=[]\n",
    "    for every in invec:\n",
    "        d.append(scipy.spatial.distance.cosine(every,givenvec))\n",
    "    #print(d)\n",
    "    return(min(d))"
   ]
  },
  {
   "cell_type": "code",
   "execution_count": 9,
   "metadata": {},
   "outputs": [
    {
     "ename": "SyntaxError",
     "evalue": "invalid syntax (<ipython-input-9-c91e6b3a1ec4>, line 1)",
     "output_type": "error",
     "traceback": [
      "\u001b[1;36m  File \u001b[1;32m\"<ipython-input-9-c91e6b3a1ec4>\"\u001b[1;36m, line \u001b[1;32m1\u001b[0m\n\u001b[1;33m    def getintent(clean_input)#, self.context, self.current_intent):\u001b[0m\n\u001b[1;37m                                                                    ^\u001b[0m\n\u001b[1;31mSyntaxError\u001b[0m\u001b[1;31m:\u001b[0m invalid syntax\n"
     ]
    }
   ],
   "source": [
    "def getintent(clean_input):#, self.context, self.current_intent):\n",
    "    uinput=clean_input\n",
    "    givenvec=np.zeros(word_vec.get_vector('pub').shape)\n",
    "    count=0\n",
    "    for w in uinput.split():\n",
    "        if (w.lower() not in stopwrds) and (w.lower() in word_vec.vocab):\n",
    "            givenvec=givenvec+word_vec.get_vector(w.lower())\n",
    "            count=count+1\n",
    "    pubsd=cosdist(senvec_pubs,givenvec)\n",
    "    cabsd=cosdist(senvec_cab,givenvec)\n",
    "    red=cosdist(senvec_res,givenvec)\n",
    "    \n",
    "    #print(pubsd,cabsd,red)\n",
    "    if pubsd < cabsd :\n",
    "        if pubsd < red:\n",
    "            print('restaurant')\n",
    "            return('restaurant')\n",
    "        else:\n",
    "            print('restart')\n",
    "            return('restart')\n",
    "    else :\n",
    "        if cabsd <red:\n",
    "            print('Cab')\n",
    "            return('Cab')\n",
    "        else:\n",
    "            print('restart')\n",
    "            return('restart')\n",
    "#print(givenvec/count)\n",
    "\n",
    "        "
   ]
  },
  {
   "cell_type": "code",
   "execution_count": null,
   "metadata": {},
   "outputs": [],
   "source": [
    "#print(\"pubs\",eqdist(senvec_pubs,givenvec))\n",
    "\n",
    "#print(\"cabs\",eqdist(senvec_cab,givenvec))\n"
   ]
  },
  {
   "cell_type": "code",
   "execution_count": null,
   "metadata": {},
   "outputs": [],
   "source": [
    "getintent('book me a cab')"
   ]
  },
  {
   "cell_type": "code",
   "execution_count": null,
   "metadata": {},
   "outputs": [],
   "source": []
  },
  {
   "cell_type": "code",
   "execution_count": null,
   "metadata": {},
   "outputs": [],
   "source": []
  }
 ],
 "metadata": {
  "kernelspec": {
   "display_name": "Python 3",
   "language": "python",
   "name": "python3"
  },
  "language_info": {
   "codemirror_mode": {
    "name": "ipython",
    "version": 3
   },
   "file_extension": ".py",
   "mimetype": "text/x-python",
   "name": "python",
   "nbconvert_exporter": "python",
   "pygments_lexer": "ipython3",
   "version": "3.6.4"
  }
 },
 "nbformat": 4,
 "nbformat_minor": 2
}
